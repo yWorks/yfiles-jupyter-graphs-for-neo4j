{
 "cells": [
  {
   "cell_type": "markdown",
   "id": "5dbe0b6a-35ce-49d1-acbf-d0590d1619c2",
   "metadata": {},
   "source": [
    "# Custom Data Configurations <a target=\"_blank\" href=\"https://colab.research.google.com/github/yWorks/yfiles-jupyter-graphs-for-neo4j/blob/main/examples/configurations_example.ipynb\"><img src=\"https://colab.research.google.com/assets/colab-badge.svg\" alt=\"Open In Colab\"/></a>"
   ]
  },
  {
   "cell_type": "code",
   "execution_count": null,
   "id": "8891bd52-e89c-46ba-a236-7a8ffee9b3da",
   "metadata": {},
   "outputs": [],
   "source": [
    "%pip install yfiles_jupyter_graphs_for_neo4j --quiet\n",
    "%pip install neo4j --quiet\n",
    "from yfiles_jupyter_graphs_for_neo4j import Neo4jGraphWidget\n",
    "from neo4j import GraphDatabase\n",
    "from datetime import datetime"
   ]
  },
  {
   "cell_type": "markdown",
   "id": "ebbc75dd-35db-4aff-bde2-2be4a9b11309",
   "metadata": {},
   "source": [
    "You can also open this notebook in Google Colab when Google Colab's custom widget manager is enabled:"
   ]
  },
  {
   "cell_type": "code",
   "execution_count": null,
   "id": "db54c371-ccb6-4f5c-9d96-917692af08bb",
   "metadata": {},
   "outputs": [],
   "source": [
    "try:\n",
    "  import google.colab\n",
    "  from google.colab import output\n",
    "  output.enable_custom_widget_manager()\n",
    "except:\n",
    "  pass"
   ]
  },
  {
   "cell_type": "markdown",
   "id": "e85cde2a-5dba-4c06-9c9e-af199246dd53",
   "metadata": {},
   "source": [
    "## Use the Neo4j driver"
   ]
  },
  {
   "cell_type": "code",
   "execution_count": null,
   "id": "0a50afba-06d6-47a4-9e38-106aa2823a83",
   "metadata": {},
   "outputs": [],
   "source": [
    "NEO4J_URI      = \"neo4j+ssc://demo.neo4jlabs.com\" \n",
    "NEO4J_USERNAME = \"movies\"\n",
    "NEO4J_PASSWORD = \"movies\"\n",
    "driver = GraphDatabase.driver(uri = NEO4J_URI, auth = (NEO4J_USERNAME, NEO4J_PASSWORD), database = 'movies')\n",
    "\n",
    "g = Neo4jGraphWidget(driver)"
   ]
  },
  {
   "cell_type": "markdown",
   "id": "1ac1f749-f180-4870-955b-ea397879e6ce",
   "metadata": {},
   "source": [
    "## Configure data mappings\n",
    "\n",
    "Configurable values for the node visualization: `text`, `color`, `size`, `styles`, `property`, `coordinate`, `heat` and `type`.\n",
    "\n",
    "Configurable values for the relationship visualization: `text`, `color`, `thickness_factor`, `styles`, `heat` and `property`.\n",
    "\n",
    "When adding a configuration, you always need to specify the type of node or edge you want to adjust. (Here 'Person' or 'DIRECTED'),\n",
    "additionally you can define the new values for the above mentioned properties. The values may either be:\n",
    "- A lambda the resolves the node or relationship to a specific value.\n",
    "- A constant value which is directly used.\n",
    "- A property-key that points to the value that should be used for the configuration.\n",
    "\n",
    "For nodes, there is an additional `parent_configuration` that defines parent nodes for the node label. This configuration may either be:\n",
    "- A constant string value that is used as text for the created group node.\n",
    "- A property-key pointing to a string value that is used as text for the created group node.\n",
    "- A dict that with a 'text' property as label and additional styling properties (similar to the above mentioned visualization properties)."
   ]
  },
  {
   "cell_type": "code",
   "execution_count": null,
   "id": "af00a09e-9842-4dcd-b296-fe0f01ba09e4",
   "metadata": {},
   "outputs": [],
   "source": [
    "g.add_node_configuration('Person', text='name', size=(100,100), styles=lambda node : {'shape': 'rectangle'}, parent_configuration= {'text': 'people', 'color': '#cca9ff'})\n",
    "g.add_node_configuration('Movie', text= lambda node : {\n",
    "        'text': 'Title:\\n' + node['properties']['title'], \n",
    "        'backgroundColor': 'rgba(0,0,0,0.7)', \n",
    "        'fontSize': 20, \n",
    "        'color': '#FFFFFF', \n",
    "        'position': 'north', \n",
    "        'fontWeight': 'lighter',\n",
    "        'maximumWidth': 130, \n",
    "        'wrapping': 'word', \n",
    "        'textAlignment': 'center'\n",
    "    }, parent_configuration='movies')  \n",
    "g.add_relationship_configuration('DIRECTED', text='label', color=\"blue\", styles={'dashStyle': 'dot'})\n",
    "g.add_relationship_configuration('PRODUCED', text = lambda edge: {'text': 'produced', 'fontWeight': 'bolder'}, color= lambda edge: '#AC94F4')\n",
    "g.add_relationship_configuration('ACTED_IN', thickness_factor=2, color='#AC94F4') "
   ]
  },
  {
   "cell_type": "markdown",
   "id": "7b88d8d4-dbb8-4d87-b9bf-ee6316d96dd5",
   "metadata": {},
   "source": [
    "## Query the database with Cypher"
   ]
  },
  {
   "cell_type": "code",
   "execution_count": null,
   "id": "514823d3-b3a4-4d5e-a48f-97058110ea4e",
   "metadata": {},
   "outputs": [],
   "source": [
    "g.show_cypher(\"MATCH (s)-[r]->(t) RETURN s,r,t LIMIT 20\")"
   ]
  },
  {
   "cell_type": "markdown",
   "id": "a5d61081-2075-4d85-91a9-0ec49d720918",
   "metadata": {},
   "source": [
    "### Visualize \"ACTED_IN\" as nested hierarchy\n",
    "\n",
    "Relationship types may be replaced by a nesting hierarchy. This restructures the graph by removing these relationships and instead representing them as nested parent-child structure. The relationship structure may als be reversed with the `reverse` keyword argument to the `add_parent_relationship_configuration` method."
   ]
  },
  {
   "cell_type": "code",
   "execution_count": null,
   "id": "69211d43-39c5-4fb3-8fcb-5b6f1d4c0652",
   "metadata": {},
   "outputs": [],
   "source": [
    "g.add_parent_relationship_configuration('ACTED_IN')\n",
    "g.show_cypher(\"MATCH (s)-[r]->(t:Movie {title: 'The Matrix'}) RETURN s,r,t LIMIT 20\")"
   ]
  },
  {
   "cell_type": "markdown",
   "id": "69570f85-9fb9-4cf3-b7bf-4125ff677a81",
   "metadata": {},
   "source": [
    "## Wildcard configurations\n",
    "\n",
    "Using `'*'` as the node or relationship type, all nodes or relationships are affected by the given configuration.\n",
    "\n",
    "Using an explicit type configuration overwrites the wildcard configuration."
   ]
  },
  {
   "cell_type": "code",
   "execution_count": null,
   "id": "158bf75e-3382-4748-a920-dc0f756b1bbe",
   "metadata": {},
   "outputs": [],
   "source": [
    "g2 = Neo4jGraphWidget(driver, layout='circular')\n",
    "g2.add_relationship_configuration('*', color='gray') # all relationship types gray\n",
    "g2.add_relationship_configuration('PRODUCED', color='red') # highlight the \"produced\" type\n",
    "g2.show_cypher(\"MATCH (s)-[r]->(t) RETURN s,r,t LIMIT 10\")"
   ]
  },
  {
   "cell_type": "code",
   "execution_count": null,
   "id": "255cfdb6-7cd9-44b5-beee-834208bc0535",
   "metadata": {},
   "outputs": [],
   "source": []
  }
 ],
 "metadata": {
  "kernelspec": {
   "display_name": "Python 3 (ipykernel)",
   "language": "python",
   "name": "python3"
  },
  "language_info": {
   "codemirror_mode": {
    "name": "ipython",
    "version": 3
   },
   "file_extension": ".py",
   "mimetype": "text/x-python",
   "name": "python",
   "nbconvert_exporter": "python",
   "pygments_lexer": "ipython3",
   "version": "3.12.2"
  }
 },
 "nbformat": 4,
 "nbformat_minor": 5
}
