{
 "cells": [
  {
   "cell_type": "markdown",
   "id": "5dbe0b6a-35ce-49d1-acbf-d0590d1619c2",
   "metadata": {},
   "source": [
    "# Custom Data Configurations <a target=\"_blank\" href=\"https://colab.research.google.com/github/yWorks/yfiles-jupyter-graphs-for-neo4j/blob/main/examples/configurations_example.ipynb\"><img src=\"https://colab.research.google.com/assets/colab-badge.svg\" alt=\"Open In Colab\"/></a>"
   ]
  },
  {
   "cell_type": "code",
   "execution_count": null,
   "id": "8891bd52-e89c-46ba-a236-7a8ffee9b3da",
   "metadata": {},
   "outputs": [],
   "source": [
    "%pip install yfiles_jupyter_graphs_for_neo4j --quiet\n",
    "%pip install neo4j --quiet\n",
    "from yfiles_jupyter_graphs_for_neo4j import Neo4jGraphWidget\n",
    "from neo4j import GraphDatabase\n",
    "from datetime import datetime"
   ]
  },
  {
   "cell_type": "markdown",
   "id": "ebbc75dd-35db-4aff-bde2-2be4a9b11309",
   "metadata": {},
   "source": [
    "You can also open this notebook in Google Colab when Google Colab's custom widget manager is enabled:"
   ]
  },
  {
   "cell_type": "code",
   "execution_count": null,
   "id": "db54c371-ccb6-4f5c-9d96-917692af08bb",
   "metadata": {},
   "outputs": [],
   "source": [
    "try:\n",
    "  import google.colab\n",
    "  from google.colab import output\n",
    "  output.enable_custom_widget_manager()\n",
    "except:\n",
    "  pass"
   ]
  },
  {
   "cell_type": "markdown",
   "id": "e85cde2a-5dba-4c06-9c9e-af199246dd53",
   "metadata": {},
   "source": [
    "## Use the Neo4j driver"
   ]
  },
  {
   "cell_type": "code",
   "execution_count": null,
   "id": "0a50afba-06d6-47a4-9e38-106aa2823a83",
   "metadata": {},
   "outputs": [],
   "source": [
    "NEO4J_URI      = \"neo4j+ssc://demo.neo4jlabs.com\" \n",
    "NEO4J_USERNAME = \"movies\"\n",
    "NEO4J_PASSWORD = \"movies\"\n",
    "driver = GraphDatabase.driver(uri = NEO4J_URI, auth = (NEO4J_USERNAME, NEO4J_PASSWORD), database = 'movies')\n",
    "\n",
    "g = Neo4jGraphWidget(driver)"
   ]
  },
  {
   "cell_type": "markdown",
   "id": "1ac1f749-f180-4870-955b-ea397879e6ce",
   "metadata": {},
   "source": [
    "## Configure data mappings\n",
    "\n",
    "Configurable values for the node visualization: `text`, `color`, `size`, `styles`, `property`, `coordinate`, `heat` and `type`.\n",
    "\n",
    "Configurable values for the relationship visualization: `text`, `color`, `thickness_factor`, `styles`, `heat` and `property`.\n",
    "\n",
    "When adding a configuration, you always need to specify the type of node or edge you want to adjust. (Here 'Person' or 'DIRECTED'),\n",
    "additionally you can define the new values for the above mentioned properties. The values may either be:\n",
    "- A lambda the resolves the node or relationship to a specific value.\n",
    "- A constant value which is directly used.\n",
    "- A property-key that points to the value that should be used for the configuration.\n",
    "\n",
    "For nodes, there is an additional `parent_configuration` that defines parent nodes for the node label. This configuration may either be:\n",
    "- A constant string value that is used as text for the created group node.\n",
    "- A property-key pointing to a string value that is used as text for the created group node.\n",
    "- A dict that with a 'text' property as label and additional styling properties (similar to the above mentioned visualization properties)."
   ]
  },
  {
   "cell_type": "code",
   "execution_count": null,
   "id": "af00a09e-9842-4dcd-b296-fe0f01ba09e4",
   "metadata": {},
   "outputs": [],
   "source": [
    "g.add_node_configuration('Person', text='name', size=(100,100), styles=lambda node : {'shape': 'rectangle'}, parent_configuration= {'text': 'people', 'color': '#cca9ff'})\n",
    "g.add_node_configuration('Movie', text= lambda node : {\n",
    "        'text': 'Title:\\n' + node['properties']['title'], \n",
    "        'backgroundColor': 'rgba(0,0,0,0.7)', \n",
    "        'fontSize': 20, \n",
    "        'color': '#FFFFFF', \n",
    "        'position': 'north', \n",
    "        'fontWeight': 'lighter',\n",
    "        'maximumWidth': 130, \n",
    "        'wrapping': 'word', \n",
    "        'textAlignment': 'center'\n",
    "    }, parent_configuration='movies')  \n",
    "g.add_relationship_configuration('DIRECTED', color=\"blue\", styles={'dashStyle': 'dot'})\n",
    "g.add_relationship_configuration('PRODUCED', text = lambda edge: {'text': 'produced', 'fontWeight': 'bolder', 'fontSize': 16}, color='#AC94F4')\n",
    "g.add_relationship_configuration('ACTED_IN', thickness_factor=2, color='#AC94F4') "
   ]
  },
  {
   "cell_type": "markdown",
   "id": "7b88d8d4-dbb8-4d87-b9bf-ee6316d96dd5",
   "metadata": {},
   "source": [
    "## Query the database with Cypher"
   ]
  },
  {
   "cell_type": "code",
   "execution_count": null,
   "id": "514823d3-b3a4-4d5e-a48f-97058110ea4e",
   "metadata": {},
   "outputs": [],
   "source": [
    "g.show_cypher(\"MATCH (s)-[r]->(t) RETURN s,r,t LIMIT 20\")"
   ]
  },
  {
   "cell_type": "markdown",
   "id": "a5d61081-2075-4d85-91a9-0ec49d720918",
   "metadata": {},
   "source": [
    "### Visualize \"ACTED_IN\" as nested hierarchy\n",
    "\n",
    "Relationship types may be replaced by a nesting hierarchy. This restructures the graph by removing these relationships and instead representing them as nested parent-child structure. The relationship structure may als be reversed with the `reverse` keyword argument to the `add_parent_relationship_configuration` method."
   ]
  },
  {
   "cell_type": "code",
   "execution_count": null,
   "id": "69211d43-39c5-4fb3-8fcb-5b6f1d4c0652",
   "metadata": {},
   "outputs": [],
   "source": [
    "g.add_parent_relationship_configuration('ACTED_IN')\n",
    "g.show_cypher(\"MATCH (s)-[r]->(t:Movie {title: 'The Matrix'}) RETURN s,r,t LIMIT 20\")"
   ]
  },
  {
   "cell_type": "markdown",
   "id": "69570f85-9fb9-4cf3-b7bf-4125ff677a81",
   "metadata": {},
   "source": [
    "## Wildcard configurations\n",
    "\n",
    "Using `'*'` as the node or relationship type, all nodes or relationships are affected by the given configuration.\n",
    "\n",
    "Using an explicit type configuration overwrites the wildcard configuration."
   ]
  },
  {
   "cell_type": "code",
   "execution_count": null,
   "id": "158bf75e-3382-4748-a920-dc0f756b1bbe",
   "metadata": {},
   "outputs": [],
   "source": [
    "g2 = Neo4jGraphWidget(driver, layout='circular')\n",
    "g2.add_relationship_configuration('*', color='gray') # all relationship types gray\n",
    "g2.add_relationship_configuration('PRODUCED', color='red') # highlight the \"produced\" type\n",
    "g2.show_cypher(\"MATCH (s)-[r]->(t) RETURN s,r,t LIMIT 10\")"
   ]
  },
  {
   "cell_type": "code",
   "execution_count": null,
   "id": "255cfdb6-7cd9-44b5-beee-834208bc0535",
   "metadata": {},
   "outputs": [],
   "source": []
  }
 ],
 "metadata": {
  "kernelspec": {
   "display_name": "Python 3 (ipykernel)",
   "language": "python",
   "name": "python3"
  },
  "language_info": {
   "codemirror_mode": {
    "name": "ipython",
    "version": 3
   },
   "file_extension": ".py",
   "mimetype": "text/x-python",
   "name": "python",
   "nbconvert_exporter": "python",
   "pygments_lexer": "ipython3",
   "version": "3.12.3"
  },
  "widgets": {
   "application/vnd.jupyter.widget-state+json": {
    "state": {
     "02ec6d2ada004284ae819698a43f3a94": {
      "model_module": "yfiles-jupyter-graphs",
      "model_module_version": "^1.10.2",
      "model_name": "GraphModel",
      "state": {
       "_context_pane_mapping": [
        {
         "id": "Neighborhood",
         "title": "Neighborhood"
        },
        {
         "id": "Data",
         "title": "Data"
        },
        {
         "id": "Search",
         "title": "Search"
        },
        {
         "id": "About",
         "title": "About"
        }
       ],
       "_data_importer": "neo4j",
       "_directed": true,
       "_edges": [
        {
         "color": "gray",
         "directed": true,
         "end": 0,
         "id": 0,
         "label": "ACTED_IN",
         "properties": {
          "label": "ACTED_IN",
          "roles": [
           "Neo"
          ]
         },
         "start": 1,
         "styles": {},
         "thickness_factor": 1
        },
        {
         "color": "gray",
         "directed": true,
         "end": 0,
         "id": 1,
         "label": "ACTED_IN",
         "properties": {
          "label": "ACTED_IN",
          "roles": [
           "Trinity"
          ]
         },
         "start": 2,
         "styles": {},
         "thickness_factor": 1
        },
        {
         "color": "gray",
         "directed": true,
         "end": 0,
         "id": 2,
         "label": "ACTED_IN",
         "properties": {
          "label": "ACTED_IN",
          "roles": [
           "Morpheus"
          ]
         },
         "start": 3,
         "styles": {},
         "thickness_factor": 1
        },
        {
         "color": "gray",
         "directed": true,
         "end": 0,
         "id": 3,
         "label": "ACTED_IN",
         "properties": {
          "label": "ACTED_IN",
          "roles": [
           "Agent Smith"
          ]
         },
         "start": 4,
         "styles": {},
         "thickness_factor": 1
        },
        {
         "color": "gray",
         "directed": true,
         "end": 0,
         "id": 4,
         "label": "DIRECTED",
         "properties": {
          "label": "DIRECTED"
         },
         "start": 5,
         "styles": {},
         "thickness_factor": 1
        },
        {
         "color": "gray",
         "directed": true,
         "end": 0,
         "id": 5,
         "label": "DIRECTED",
         "properties": {
          "label": "DIRECTED"
         },
         "start": 6,
         "styles": {},
         "thickness_factor": 1
        },
        {
         "color": "red",
         "directed": true,
         "end": 0,
         "id": 6,
         "label": "PRODUCED",
         "properties": {
          "label": "PRODUCED"
         },
         "start": 7,
         "styles": {},
         "thickness_factor": 1
        },
        {
         "color": "gray",
         "directed": true,
         "end": 0,
         "id": 7,
         "label": "ACTED_IN",
         "properties": {
          "label": "ACTED_IN",
          "roles": [
           "Emil"
          ]
         },
         "start": 8,
         "styles": {},
         "thickness_factor": 1
        },
        {
         "color": "gray",
         "directed": true,
         "end": 9,
         "id": 8,
         "label": "ACTED_IN",
         "properties": {
          "label": "ACTED_IN",
          "roles": [
           "Neo"
          ]
         },
         "start": 1,
         "styles": {},
         "thickness_factor": 1
        },
        {
         "color": "gray",
         "directed": true,
         "end": 9,
         "id": 9,
         "label": "ACTED_IN",
         "properties": {
          "label": "ACTED_IN",
          "roles": [
           "Trinity"
          ]
         },
         "start": 2,
         "styles": {},
         "thickness_factor": 1
        }
       ],
       "_graph_layout": {
        "algorithm": "circular",
        "options": {}
       },
       "_model_module_version": "^1.10.2",
       "_nodes": [
        {
         "color": "#2196F3",
         "id": 1,
         "label": "Keanu Reeves",
         "position": [
          0,
          0
         ],
         "properties": {
          "born": 1964,
          "label": "Person",
          "name": "Keanu Reeves"
         },
         "scale_factor": 1,
         "size": [
          55,
          55
         ],
         "styles": {},
         "type": "#2196F3"
        },
        {
         "color": "#4CAF50",
         "id": 0,
         "label": "The Matrix",
         "position": [
          0,
          0
         ],
         "properties": {
          "label": "Movie",
          "released": 1999,
          "tagline": "Welcome to the Real World",
          "title": "The Matrix",
          "votes": 6345
         },
         "scale_factor": 1,
         "size": [
          55,
          55
         ],
         "styles": {},
         "type": "#4CAF50"
        },
        {
         "color": "#2196F3",
         "id": 2,
         "label": "Carrie-Anne Moss",
         "position": [
          0,
          0
         ],
         "properties": {
          "born": 1967,
          "label": "Person",
          "name": "Carrie-Anne Moss"
         },
         "scale_factor": 1,
         "size": [
          55,
          55
         ],
         "styles": {},
         "type": "#2196F3"
        },
        {
         "color": "#2196F3",
         "id": 3,
         "label": "Laurence Fishburne",
         "position": [
          0,
          0
         ],
         "properties": {
          "born": 1961,
          "label": "Person",
          "name": "Laurence Fishburne"
         },
         "scale_factor": 1,
         "size": [
          55,
          55
         ],
         "styles": {},
         "type": "#2196F3"
        },
        {
         "color": "#2196F3",
         "id": 4,
         "label": "Hugo Weaving",
         "position": [
          0,
          0
         ],
         "properties": {
          "born": 1960,
          "label": "Person",
          "name": "Hugo Weaving"
         },
         "scale_factor": 1,
         "size": [
          55,
          55
         ],
         "styles": {},
         "type": "#2196F3"
        },
        {
         "color": "#2196F3",
         "id": 5,
         "label": "Lilly Wachowski",
         "position": [
          0,
          0
         ],
         "properties": {
          "born": 1967,
          "label": "Person",
          "name": "Lilly Wachowski"
         },
         "scale_factor": 1,
         "size": [
          55,
          55
         ],
         "styles": {},
         "type": "#2196F3"
        },
        {
         "color": "#2196F3",
         "id": 6,
         "label": "Lana Wachowski",
         "position": [
          0,
          0
         ],
         "properties": {
          "born": 1965,
          "label": "Person",
          "name": "Lana Wachowski"
         },
         "scale_factor": 1,
         "size": [
          55,
          55
         ],
         "styles": {},
         "type": "#2196F3"
        },
        {
         "color": "#2196F3",
         "id": 7,
         "label": "Joel Silver",
         "position": [
          0,
          0
         ],
         "properties": {
          "born": 1952,
          "label": "Person",
          "name": "Joel Silver"
         },
         "scale_factor": 1,
         "size": [
          55,
          55
         ],
         "styles": {},
         "type": "#2196F3"
        },
        {
         "color": "#2196F3",
         "id": 8,
         "label": "Emil Eifrem",
         "position": [
          0,
          0
         ],
         "properties": {
          "born": 1978,
          "label": "Person",
          "name": "Emil Eifrem"
         },
         "scale_factor": 1,
         "size": [
          55,
          55
         ],
         "styles": {},
         "type": "#2196F3"
        },
        {
         "color": "#4CAF50",
         "id": 9,
         "label": "The Matrix Reloaded",
         "position": [
          0,
          0
         ],
         "properties": {
          "label": "Movie",
          "released": 2003,
          "tagline": "Free your mind",
          "title": "The Matrix Reloaded",
          "votes": 1841
         },
         "scale_factor": 1,
         "size": [
          55,
          55
         ],
         "styles": {},
         "type": "#4CAF50"
        }
       ],
       "_overview": {
        "enabled": null,
        "overview_set": false
       },
       "_selected_graph": [
        [],
        []
       ],
       "_sidebar": {
        "enabled": false,
        "start_with": "About"
       },
       "_view_module_version": "^1.10.2",
       "layout": "IPY_MODEL_0462e2af62b4401f92fb547db77996ee"
      }
     },
     "0462e2af62b4401f92fb547db77996ee": {
      "model_module": "@jupyter-widgets/base",
      "model_module_version": "2.0.0",
      "model_name": "LayoutModel",
      "state": {
       "height": "500px",
       "width": "100%"
      }
     },
     "21ebaf0ab0b841aca22867906841cceb": {
      "model_module": "yfiles-jupyter-graphs",
      "model_module_version": "^1.10.2",
      "model_name": "GraphModel",
      "state": {
       "_context_pane_mapping": [
        {
         "id": "Neighborhood",
         "title": "Neighborhood"
        },
        {
         "id": "Data",
         "title": "Data"
        },
        {
         "id": "Search",
         "title": "Search"
        },
        {
         "id": "About",
         "title": "About"
        }
       ],
       "_data_importer": "neo4j",
       "_directed": true,
       "_edges": [
        {
         "color": "blue",
         "directed": true,
         "end": 0,
         "id": 4,
         "label": "DIRECTED",
         "properties": {
          "label": "DIRECTED"
         },
         "start": 5,
         "styles": {
          "dashStyle": "dot"
         },
         "thickness_factor": 1
        },
        {
         "color": "blue",
         "directed": true,
         "end": 0,
         "id": 5,
         "label": "DIRECTED",
         "properties": {
          "label": "DIRECTED"
         },
         "start": 6,
         "styles": {
          "dashStyle": "dot"
         },
         "thickness_factor": 1
        },
        {
         "color": "#AC94F4",
         "directed": true,
         "end": 0,
         "id": 6,
         "label": "produced",
         "properties": {
          "label": "PRODUCED"
         },
         "start": 7,
         "styles": {
          "label_styles": {}
         },
         "thickness_factor": 1
        },
        {
         "color": "blue",
         "directed": true,
         "end": 9,
         "id": 12,
         "label": "DIRECTED",
         "properties": {
          "label": "DIRECTED"
         },
         "start": 5,
         "styles": {
          "dashStyle": "dot"
         },
         "thickness_factor": 1
        },
        {
         "color": "blue",
         "directed": true,
         "end": 9,
         "id": 13,
         "label": "DIRECTED",
         "properties": {
          "label": "DIRECTED"
         },
         "start": 6,
         "styles": {
          "dashStyle": "dot"
         },
         "thickness_factor": 1
        },
        {
         "color": "#AC94F4",
         "directed": true,
         "end": 9,
         "id": 14,
         "label": "produced",
         "properties": {
          "label": "PRODUCED"
         },
         "start": 7,
         "styles": {
          "label_styles": {}
         },
         "thickness_factor": 1
        },
        {
         "color": "blue",
         "directed": true,
         "end": 10,
         "id": 19,
         "label": "DIRECTED",
         "properties": {
          "label": "DIRECTED"
         },
         "start": 5,
         "styles": {
          "dashStyle": "dot"
         },
         "thickness_factor": 1
        }
       ],
       "_graph_layout": {
        "algorithm": "organic",
        "options": {}
       },
       "_model_module_version": "^1.10.2",
       "_nodes": [
        {
         "color": "#2196F3",
         "id": 1,
         "label": "Keanu Reeves",
         "parentId": 10,
         "position": [
          0,
          0
         ],
         "properties": {
          "born": 1964,
          "label": "Person",
          "name": "Keanu Reeves"
         },
         "scale_factor": 1,
         "size": [
          100,
          100
         ],
         "styles": {
          "shape": "rectangle"
         },
         "type": "#2196F3"
        },
        {
         "color": "#4CAF50",
         "id": 0,
         "label": "Title:\nThe Matrix",
         "parentId": "GroupNodemovies",
         "position": [
          0,
          0
         ],
         "properties": {
          "label": "Movie",
          "released": 1999,
          "tagline": "Welcome to the Real World",
          "title": "The Matrix",
          "votes": 6345
         },
         "scale_factor": 1,
         "size": [
          55,
          55
         ],
         "styles": {
          "label_styles": {
           "backgroundColor": "rgba(0,0,0,0.7)",
           "color": "#FFFFFF",
           "fontSize": 20,
           "fontWeight": "lighter",
           "maximumWidth": 130,
           "position": "north",
           "textAlignment": "center",
           "wrapping": "word"
          }
         },
         "type": "#4CAF50"
        },
        {
         "color": "#2196F3",
         "id": 2,
         "label": "Carrie-Anne Moss",
         "parentId": 10,
         "position": [
          0,
          0
         ],
         "properties": {
          "born": 1967,
          "label": "Person",
          "name": "Carrie-Anne Moss"
         },
         "scale_factor": 1,
         "size": [
          100,
          100
         ],
         "styles": {
          "shape": "rectangle"
         },
         "type": "#2196F3"
        },
        {
         "color": "#2196F3",
         "id": 3,
         "label": "Laurence Fishburne",
         "parentId": 10,
         "position": [
          0,
          0
         ],
         "properties": {
          "born": 1961,
          "label": "Person",
          "name": "Laurence Fishburne"
         },
         "scale_factor": 1,
         "size": [
          100,
          100
         ],
         "styles": {
          "shape": "rectangle"
         },
         "type": "#2196F3"
        },
        {
         "color": "#2196F3",
         "id": 4,
         "label": "Hugo Weaving",
         "parentId": 10,
         "position": [
          0,
          0
         ],
         "properties": {
          "born": 1960,
          "label": "Person",
          "name": "Hugo Weaving"
         },
         "scale_factor": 1,
         "size": [
          100,
          100
         ],
         "styles": {
          "shape": "rectangle"
         },
         "type": "#2196F3"
        },
        {
         "color": "#2196F3",
         "id": 5,
         "label": "Lilly Wachowski",
         "parentId": "GroupNodepeople",
         "position": [
          0,
          0
         ],
         "properties": {
          "born": 1967,
          "label": "Person",
          "name": "Lilly Wachowski"
         },
         "scale_factor": 1,
         "size": [
          100,
          100
         ],
         "styles": {
          "shape": "rectangle"
         },
         "type": "#2196F3"
        },
        {
         "color": "#2196F3",
         "id": 6,
         "label": "Lana Wachowski",
         "parentId": "GroupNodepeople",
         "position": [
          0,
          0
         ],
         "properties": {
          "born": 1965,
          "label": "Person",
          "name": "Lana Wachowski"
         },
         "scale_factor": 1,
         "size": [
          100,
          100
         ],
         "styles": {
          "shape": "rectangle"
         },
         "type": "#2196F3"
        },
        {
         "color": "#2196F3",
         "id": 7,
         "label": "Joel Silver",
         "parentId": "GroupNodepeople",
         "position": [
          0,
          0
         ],
         "properties": {
          "born": 1952,
          "label": "Person",
          "name": "Joel Silver"
         },
         "scale_factor": 1,
         "size": [
          100,
          100
         ],
         "styles": {
          "shape": "rectangle"
         },
         "type": "#2196F3"
        },
        {
         "color": "#2196F3",
         "id": 8,
         "label": "Emil Eifrem",
         "parentId": 0,
         "position": [
          0,
          0
         ],
         "properties": {
          "born": 1978,
          "label": "Person",
          "name": "Emil Eifrem"
         },
         "scale_factor": 1,
         "size": [
          100,
          100
         ],
         "styles": {
          "shape": "rectangle"
         },
         "type": "#2196F3"
        },
        {
         "color": "#4CAF50",
         "id": 9,
         "label": "Title:\nThe Matrix Reloaded",
         "parentId": "GroupNodemovies",
         "position": [
          0,
          0
         ],
         "properties": {
          "label": "Movie",
          "released": 2003,
          "tagline": "Free your mind",
          "title": "The Matrix Reloaded",
          "votes": 1841
         },
         "scale_factor": 1,
         "size": [
          55,
          55
         ],
         "styles": {
          "label_styles": {
           "backgroundColor": "rgba(0,0,0,0.7)",
           "color": "#FFFFFF",
           "fontSize": 20,
           "fontWeight": "lighter",
           "maximumWidth": 130,
           "position": "north",
           "textAlignment": "center",
           "wrapping": "word"
          }
         },
         "type": "#4CAF50"
        },
        {
         "color": "#4CAF50",
         "id": 10,
         "label": "Title:\nThe Matrix Revolutions",
         "parentId": "GroupNodemovies",
         "position": [
          0,
          0
         ],
         "properties": {
          "label": "Movie",
          "released": 2003,
          "tagline": "Everything that has a beginning has an end",
          "title": "The Matrix Revolutions",
          "votes": 1534
         },
         "scale_factor": 1,
         "size": [
          55,
          55
         ],
         "styles": {
          "label_styles": {
           "backgroundColor": "rgba(0,0,0,0.7)",
           "color": "#FFFFFF",
           "fontSize": 20,
           "fontWeight": "lighter",
           "maximumWidth": 130,
           "position": "north",
           "textAlignment": "center",
           "wrapping": "word"
          }
         },
         "type": "#4CAF50"
        },
        {
         "color": "#cca9ff",
         "id": "GroupNodepeople",
         "label": "people",
         "position": [
          0,
          0
         ],
         "properties": {
          "label": "people"
         },
         "scale_factor": 1,
         "size": [
          55,
          55
         ],
         "styles": {},
         "type": "#cca9ff"
        },
        {
         "color": "#F44336",
         "id": "GroupNodemovies",
         "label": "movies",
         "position": [
          0,
          0
         ],
         "properties": {
          "label": "movies"
         },
         "scale_factor": 1,
         "size": [
          55,
          55
         ],
         "styles": {},
         "type": "#F44336"
        }
       ],
       "_overview": {
        "enabled": null,
        "overview_set": false
       },
       "_selected_graph": [
        [],
        []
       ],
       "_sidebar": {
        "enabled": false,
        "start_with": "About"
       },
       "_view_module_version": "^1.10.2",
       "layout": "IPY_MODEL_6bdf055e98594e2599fa5156c3f65956"
      }
     },
     "34bbd98495ca4f32aae4dbb34758f654": {
      "model_module": "@jupyter-widgets/base",
      "model_module_version": "2.0.0",
      "model_name": "LayoutModel",
      "state": {
       "height": "500px",
       "width": "100%"
      }
     },
     "577983e1cec84593b62c1b70fb1637ae": {
      "model_module": "@jupyter-widgets/base",
      "model_module_version": "2.0.0",
      "model_name": "LayoutModel",
      "state": {
       "height": "500px",
       "width": "100%"
      }
     },
     "5fd3993005a24254b3a3d6b0ee922944": {
      "model_module": "@jupyter-widgets/base",
      "model_module_version": "2.0.0",
      "model_name": "LayoutModel",
      "state": {
       "height": "630px",
       "width": "100%"
      }
     },
     "61b4005ae6884205994ae640442962eb": {
      "model_module": "@jupyter-widgets/base",
      "model_module_version": "2.0.0",
      "model_name": "LayoutModel",
      "state": {
       "height": "500px",
       "width": "100%"
      }
     },
     "63e098dd1ddd46d08940956fca858f87": {
      "model_module": "yfiles-jupyter-graphs",
      "model_module_version": "^1.10.2",
      "model_name": "GraphModel",
      "state": {
       "_context_pane_mapping": [
        {
         "id": "Neighborhood",
         "title": "Neighborhood"
        },
        {
         "id": "Data",
         "title": "Data"
        },
        {
         "id": "Search",
         "title": "Search"
        },
        {
         "id": "About",
         "title": "About"
        }
       ],
       "_data_importer": "neo4j",
       "_directed": true,
       "_edges": [
        {
         "color": "blue",
         "directed": true,
         "end": 0,
         "id": 4,
         "label": "DIRECTED",
         "properties": {
          "label": "DIRECTED"
         },
         "start": 5,
         "styles": {
          "dashStyle": "dot"
         },
         "thickness_factor": 1
        },
        {
         "color": "blue",
         "directed": true,
         "end": 0,
         "id": 5,
         "label": "DIRECTED",
         "properties": {
          "label": "DIRECTED"
         },
         "start": 6,
         "styles": {
          "dashStyle": "dot"
         },
         "thickness_factor": 1
        },
        {
         "color": "#AC94F4",
         "directed": true,
         "end": 0,
         "id": 6,
         "label": "produced",
         "properties": {
          "label": "PRODUCED"
         },
         "start": 7,
         "styles": {
          "label_styles": {
           "fontWeight": "bolder"
          }
         },
         "thickness_factor": 1
        },
        {
         "color": "blue",
         "directed": true,
         "end": 9,
         "id": 12,
         "label": "DIRECTED",
         "properties": {
          "label": "DIRECTED"
         },
         "start": 5,
         "styles": {
          "dashStyle": "dot"
         },
         "thickness_factor": 1
        },
        {
         "color": "blue",
         "directed": true,
         "end": 9,
         "id": 13,
         "label": "DIRECTED",
         "properties": {
          "label": "DIRECTED"
         },
         "start": 6,
         "styles": {
          "dashStyle": "dot"
         },
         "thickness_factor": 1
        },
        {
         "color": "#AC94F4",
         "directed": true,
         "end": 9,
         "id": 14,
         "label": "produced",
         "properties": {
          "label": "PRODUCED"
         },
         "start": 7,
         "styles": {
          "label_styles": {
           "fontWeight": "bolder"
          }
         },
         "thickness_factor": 1
        },
        {
         "color": "blue",
         "directed": true,
         "end": 10,
         "id": 19,
         "label": "DIRECTED",
         "properties": {
          "label": "DIRECTED"
         },
         "start": 5,
         "styles": {
          "dashStyle": "dot"
         },
         "thickness_factor": 1
        }
       ],
       "_graph_layout": {
        "algorithm": "organic",
        "options": {}
       },
       "_model_module_version": "^1.10.2",
       "_nodes": [
        {
         "color": "#2196F3",
         "id": 1,
         "label": "Keanu Reeves",
         "parentId": 10,
         "position": [
          0,
          0
         ],
         "properties": {
          "born": 1964,
          "label": "Person",
          "name": "Keanu Reeves"
         },
         "scale_factor": 1,
         "size": [
          100,
          100
         ],
         "styles": {
          "shape": "rectangle"
         },
         "type": "#2196F3"
        },
        {
         "color": "#4CAF50",
         "id": 0,
         "label": "Title:\nThe Matrix",
         "parentId": "GroupNodemovies",
         "position": [
          0,
          0
         ],
         "properties": {
          "label": "Movie",
          "released": 1999,
          "tagline": "Welcome to the Real World",
          "title": "The Matrix",
          "votes": 6345
         },
         "scale_factor": 1,
         "size": [
          55,
          55
         ],
         "styles": {
          "label_styles": {
           "backgroundColor": "rgba(0,0,0,0.7)",
           "color": "#FFFFFF",
           "fontSize": 20,
           "fontWeight": "lighter",
           "maximumWidth": 130,
           "position": "north",
           "textAlignment": "center",
           "wrapping": "word"
          }
         },
         "type": "#4CAF50"
        },
        {
         "color": "#2196F3",
         "id": 2,
         "label": "Carrie-Anne Moss",
         "parentId": 10,
         "position": [
          0,
          0
         ],
         "properties": {
          "born": 1967,
          "label": "Person",
          "name": "Carrie-Anne Moss"
         },
         "scale_factor": 1,
         "size": [
          100,
          100
         ],
         "styles": {
          "shape": "rectangle"
         },
         "type": "#2196F3"
        },
        {
         "color": "#2196F3",
         "id": 3,
         "label": "Laurence Fishburne",
         "parentId": 10,
         "position": [
          0,
          0
         ],
         "properties": {
          "born": 1961,
          "label": "Person",
          "name": "Laurence Fishburne"
         },
         "scale_factor": 1,
         "size": [
          100,
          100
         ],
         "styles": {
          "shape": "rectangle"
         },
         "type": "#2196F3"
        },
        {
         "color": "#2196F3",
         "id": 4,
         "label": "Hugo Weaving",
         "parentId": 10,
         "position": [
          0,
          0
         ],
         "properties": {
          "born": 1960,
          "label": "Person",
          "name": "Hugo Weaving"
         },
         "scale_factor": 1,
         "size": [
          100,
          100
         ],
         "styles": {
          "shape": "rectangle"
         },
         "type": "#2196F3"
        },
        {
         "color": "#2196F3",
         "id": 5,
         "label": "Lilly Wachowski",
         "parentId": "GroupNodepeople",
         "position": [
          0,
          0
         ],
         "properties": {
          "born": 1967,
          "label": "Person",
          "name": "Lilly Wachowski"
         },
         "scale_factor": 1,
         "size": [
          100,
          100
         ],
         "styles": {
          "shape": "rectangle"
         },
         "type": "#2196F3"
        },
        {
         "color": "#2196F3",
         "id": 6,
         "label": "Lana Wachowski",
         "parentId": "GroupNodepeople",
         "position": [
          0,
          0
         ],
         "properties": {
          "born": 1965,
          "label": "Person",
          "name": "Lana Wachowski"
         },
         "scale_factor": 1,
         "size": [
          100,
          100
         ],
         "styles": {
          "shape": "rectangle"
         },
         "type": "#2196F3"
        },
        {
         "color": "#2196F3",
         "id": 7,
         "label": "Joel Silver",
         "parentId": "GroupNodepeople",
         "position": [
          0,
          0
         ],
         "properties": {
          "born": 1952,
          "label": "Person",
          "name": "Joel Silver"
         },
         "scale_factor": 1,
         "size": [
          100,
          100
         ],
         "styles": {
          "shape": "rectangle"
         },
         "type": "#2196F3"
        },
        {
         "color": "#2196F3",
         "id": 8,
         "label": "Emil Eifrem",
         "parentId": 0,
         "position": [
          0,
          0
         ],
         "properties": {
          "born": 1978,
          "label": "Person",
          "name": "Emil Eifrem"
         },
         "scale_factor": 1,
         "size": [
          100,
          100
         ],
         "styles": {
          "shape": "rectangle"
         },
         "type": "#2196F3"
        },
        {
         "color": "#4CAF50",
         "id": 9,
         "label": "Title:\nThe Matrix Reloaded",
         "parentId": "GroupNodemovies",
         "position": [
          0,
          0
         ],
         "properties": {
          "label": "Movie",
          "released": 2003,
          "tagline": "Free your mind",
          "title": "The Matrix Reloaded",
          "votes": 1841
         },
         "scale_factor": 1,
         "size": [
          55,
          55
         ],
         "styles": {
          "label_styles": {
           "backgroundColor": "rgba(0,0,0,0.7)",
           "color": "#FFFFFF",
           "fontSize": 20,
           "fontWeight": "lighter",
           "maximumWidth": 130,
           "position": "north",
           "textAlignment": "center",
           "wrapping": "word"
          }
         },
         "type": "#4CAF50"
        },
        {
         "color": "#4CAF50",
         "id": 10,
         "label": "Title:\nThe Matrix Revolutions",
         "parentId": "GroupNodemovies",
         "position": [
          0,
          0
         ],
         "properties": {
          "label": "Movie",
          "released": 2003,
          "tagline": "Everything that has a beginning has an end",
          "title": "The Matrix Revolutions",
          "votes": 1534
         },
         "scale_factor": 1,
         "size": [
          55,
          55
         ],
         "styles": {
          "label_styles": {
           "backgroundColor": "rgba(0,0,0,0.7)",
           "color": "#FFFFFF",
           "fontSize": 20,
           "fontWeight": "lighter",
           "maximumWidth": 130,
           "position": "north",
           "textAlignment": "center",
           "wrapping": "word"
          }
         },
         "type": "#4CAF50"
        },
        {
         "color": "#cca9ff",
         "id": "GroupNodepeople",
         "label": "people",
         "position": [
          0,
          0
         ],
         "properties": {
          "label": "people"
         },
         "scale_factor": 1,
         "size": [
          55,
          55
         ],
         "styles": {},
         "type": "#cca9ff"
        },
        {
         "color": "#F44336",
         "id": "GroupNodemovies",
         "label": "movies",
         "position": [
          0,
          0
         ],
         "properties": {
          "label": "movies"
         },
         "scale_factor": 1,
         "size": [
          55,
          55
         ],
         "styles": {},
         "type": "#F44336"
        }
       ],
       "_overview": {
        "enabled": null,
        "overview_set": false
       },
       "_selected_graph": [
        [],
        []
       ],
       "_sidebar": {
        "enabled": false,
        "start_with": "About"
       },
       "_view_module_version": "^1.10.2",
       "layout": "IPY_MODEL_d5976e6a66da45828c79552aad4df578"
      }
     },
     "68f8e05eabb5405c932e35fc3d52cda8": {
      "model_module": "@jupyter-widgets/base",
      "model_module_version": "2.0.0",
      "model_name": "LayoutModel",
      "state": {
       "height": "500px",
       "width": "100%"
      }
     },
     "6bdf055e98594e2599fa5156c3f65956": {
      "model_module": "@jupyter-widgets/base",
      "model_module_version": "2.0.0",
      "model_name": "LayoutModel",
      "state": {
       "height": "630px",
       "width": "100%"
      }
     },
     "77f79c1038da486ebdf3db3693fa1df7": {
      "model_module": "@jupyter-widgets/base",
      "model_module_version": "2.0.0",
      "model_name": "LayoutModel",
      "state": {
       "height": "610px",
       "width": "100%"
      }
     },
     "7e45a2312586497fbc5d6ed31e553dc3": {
      "model_module": "@jupyter-widgets/base",
      "model_module_version": "2.0.0",
      "model_name": "LayoutModel",
      "state": {
       "height": "630px",
       "width": "100%"
      }
     },
     "80ee4436b5b1406c9e8c025864afecdc": {
      "model_module": "@jupyter-widgets/base",
      "model_module_version": "2.0.0",
      "model_name": "LayoutModel",
      "state": {
       "height": "500px",
       "width": "100%"
      }
     },
     "9737c7185d0842118fca7fb4141a5cff": {
      "model_module": "@jupyter-widgets/base",
      "model_module_version": "2.0.0",
      "model_name": "LayoutModel",
      "state": {
       "height": "500px",
       "width": "100%"
      }
     },
     "9bbb8051faf243dbb3ed865d02d79116": {
      "model_module": "yfiles-jupyter-graphs",
      "model_module_version": "^1.10.2",
      "model_name": "GraphModel",
      "state": {
       "_context_pane_mapping": [
        {
         "id": "Neighborhood",
         "title": "Neighborhood"
        },
        {
         "id": "Data",
         "title": "Data"
        },
        {
         "id": "Search",
         "title": "Search"
        },
        {
         "id": "About",
         "title": "About"
        }
       ],
       "_data_importer": "neo4j",
       "_directed": true,
       "_edges": [
        {
         "color": "#AC94F4",
         "directed": true,
         "end": 0,
         "id": 0,
         "label": "ACTED_IN",
         "properties": {
          "label": "ACTED_IN",
          "roles": [
           "Neo"
          ]
         },
         "start": 1,
         "styles": {},
         "thickness_factor": 2
        },
        {
         "color": "#AC94F4",
         "directed": true,
         "end": 0,
         "id": 1,
         "label": "ACTED_IN",
         "properties": {
          "label": "ACTED_IN",
          "roles": [
           "Trinity"
          ]
         },
         "start": 2,
         "styles": {},
         "thickness_factor": 2
        },
        {
         "color": "#AC94F4",
         "directed": true,
         "end": 0,
         "id": 2,
         "label": "ACTED_IN",
         "properties": {
          "label": "ACTED_IN",
          "roles": [
           "Morpheus"
          ]
         },
         "start": 3,
         "styles": {},
         "thickness_factor": 2
        },
        {
         "color": "#AC94F4",
         "directed": true,
         "end": 0,
         "id": 3,
         "label": "ACTED_IN",
         "properties": {
          "label": "ACTED_IN",
          "roles": [
           "Agent Smith"
          ]
         },
         "start": 4,
         "styles": {},
         "thickness_factor": 2
        },
        {
         "color": "blue",
         "directed": true,
         "end": 0,
         "id": 4,
         "label": "DIRECTED",
         "properties": {
          "label": "DIRECTED"
         },
         "start": 5,
         "styles": {
          "dashStyle": "dot"
         },
         "thickness_factor": 1
        },
        {
         "color": "blue",
         "directed": true,
         "end": 0,
         "id": 5,
         "label": "DIRECTED",
         "properties": {
          "label": "DIRECTED"
         },
         "start": 6,
         "styles": {
          "dashStyle": "dot"
         },
         "thickness_factor": 1
        },
        {
         "color": "#AC94F4",
         "directed": true,
         "end": 0,
         "id": 6,
         "label": "produced",
         "properties": {
          "label": "PRODUCED"
         },
         "start": 7,
         "styles": {
          "label_styles": {
           "fontWeight": "bolder"
          }
         },
         "thickness_factor": 1
        },
        {
         "color": "#AC94F4",
         "directed": true,
         "end": 0,
         "id": 7,
         "label": "ACTED_IN",
         "properties": {
          "label": "ACTED_IN",
          "roles": [
           "Emil"
          ]
         },
         "start": 8,
         "styles": {},
         "thickness_factor": 2
        },
        {
         "color": "#AC94F4",
         "directed": true,
         "end": 9,
         "id": 8,
         "label": "ACTED_IN",
         "properties": {
          "label": "ACTED_IN",
          "roles": [
           "Neo"
          ]
         },
         "start": 1,
         "styles": {},
         "thickness_factor": 2
        },
        {
         "color": "#AC94F4",
         "directed": true,
         "end": 9,
         "id": 9,
         "label": "ACTED_IN",
         "properties": {
          "label": "ACTED_IN",
          "roles": [
           "Trinity"
          ]
         },
         "start": 2,
         "styles": {},
         "thickness_factor": 2
        },
        {
         "color": "#AC94F4",
         "directed": true,
         "end": 9,
         "id": 10,
         "label": "ACTED_IN",
         "properties": {
          "label": "ACTED_IN",
          "roles": [
           "Morpheus"
          ]
         },
         "start": 3,
         "styles": {},
         "thickness_factor": 2
        },
        {
         "color": "#AC94F4",
         "directed": true,
         "end": 9,
         "id": 11,
         "label": "ACTED_IN",
         "properties": {
          "label": "ACTED_IN",
          "roles": [
           "Agent Smith"
          ]
         },
         "start": 4,
         "styles": {},
         "thickness_factor": 2
        },
        {
         "color": "blue",
         "directed": true,
         "end": 9,
         "id": 12,
         "label": "DIRECTED",
         "properties": {
          "label": "DIRECTED"
         },
         "start": 5,
         "styles": {
          "dashStyle": "dot"
         },
         "thickness_factor": 1
        },
        {
         "color": "blue",
         "directed": true,
         "end": 9,
         "id": 13,
         "label": "DIRECTED",
         "properties": {
          "label": "DIRECTED"
         },
         "start": 6,
         "styles": {
          "dashStyle": "dot"
         },
         "thickness_factor": 1
        },
        {
         "color": "#AC94F4",
         "directed": true,
         "end": 9,
         "id": 14,
         "label": "produced",
         "properties": {
          "label": "PRODUCED"
         },
         "start": 7,
         "styles": {
          "label_styles": {
           "fontWeight": "bolder"
          }
         },
         "thickness_factor": 1
        },
        {
         "color": "#AC94F4",
         "directed": true,
         "end": 10,
         "id": 15,
         "label": "ACTED_IN",
         "properties": {
          "label": "ACTED_IN",
          "roles": [
           "Neo"
          ]
         },
         "start": 1,
         "styles": {},
         "thickness_factor": 2
        },
        {
         "color": "#AC94F4",
         "directed": true,
         "end": 10,
         "id": 16,
         "label": "ACTED_IN",
         "properties": {
          "label": "ACTED_IN",
          "roles": [
           "Trinity"
          ]
         },
         "start": 2,
         "styles": {},
         "thickness_factor": 2
        },
        {
         "color": "#AC94F4",
         "directed": true,
         "end": 10,
         "id": 17,
         "label": "ACTED_IN",
         "properties": {
          "label": "ACTED_IN",
          "roles": [
           "Morpheus"
          ]
         },
         "start": 3,
         "styles": {},
         "thickness_factor": 2
        },
        {
         "color": "#AC94F4",
         "directed": true,
         "end": 10,
         "id": 18,
         "label": "ACTED_IN",
         "properties": {
          "label": "ACTED_IN",
          "roles": [
           "Agent Smith"
          ]
         },
         "start": 4,
         "styles": {},
         "thickness_factor": 2
        },
        {
         "color": "blue",
         "directed": true,
         "end": 10,
         "id": 19,
         "label": "DIRECTED",
         "properties": {
          "label": "DIRECTED"
         },
         "start": 5,
         "styles": {
          "dashStyle": "dot"
         },
         "thickness_factor": 1
        }
       ],
       "_graph_layout": {
        "algorithm": "organic",
        "options": {}
       },
       "_model_module_version": "^1.10.2",
       "_nodes": [
        {
         "color": "#2196F3",
         "id": 1,
         "label": "Keanu Reeves",
         "parentId": "GroupNodepeople",
         "position": [
          0,
          0
         ],
         "properties": {
          "born": 1964,
          "label": "Person",
          "name": "Keanu Reeves"
         },
         "scale_factor": 1,
         "size": [
          100,
          100
         ],
         "styles": {
          "shape": "rectangle"
         },
         "type": "#2196F3"
        },
        {
         "color": "#4CAF50",
         "id": 0,
         "label": "Title:\nThe Matrix",
         "parentId": "GroupNodemovies",
         "position": [
          0,
          0
         ],
         "properties": {
          "label": "Movie",
          "released": 1999,
          "tagline": "Welcome to the Real World",
          "title": "The Matrix",
          "votes": 6345
         },
         "scale_factor": 1,
         "size": [
          55,
          55
         ],
         "styles": {
          "label_styles": {
           "backgroundColor": "rgba(0,0,0,0.7)",
           "color": "#FFFFFF",
           "fontSize": 20,
           "fontWeight": "lighter",
           "maximumWidth": 130,
           "position": "north",
           "textAlignment": "center",
           "wrapping": "word"
          }
         },
         "type": "#4CAF50"
        },
        {
         "color": "#2196F3",
         "id": 2,
         "label": "Carrie-Anne Moss",
         "parentId": "GroupNodepeople",
         "position": [
          0,
          0
         ],
         "properties": {
          "born": 1967,
          "label": "Person",
          "name": "Carrie-Anne Moss"
         },
         "scale_factor": 1,
         "size": [
          100,
          100
         ],
         "styles": {
          "shape": "rectangle"
         },
         "type": "#2196F3"
        },
        {
         "color": "#2196F3",
         "id": 3,
         "label": "Laurence Fishburne",
         "parentId": "GroupNodepeople",
         "position": [
          0,
          0
         ],
         "properties": {
          "born": 1961,
          "label": "Person",
          "name": "Laurence Fishburne"
         },
         "scale_factor": 1,
         "size": [
          100,
          100
         ],
         "styles": {
          "shape": "rectangle"
         },
         "type": "#2196F3"
        },
        {
         "color": "#2196F3",
         "id": 4,
         "label": "Hugo Weaving",
         "parentId": "GroupNodepeople",
         "position": [
          0,
          0
         ],
         "properties": {
          "born": 1960,
          "label": "Person",
          "name": "Hugo Weaving"
         },
         "scale_factor": 1,
         "size": [
          100,
          100
         ],
         "styles": {
          "shape": "rectangle"
         },
         "type": "#2196F3"
        },
        {
         "color": "#2196F3",
         "id": 5,
         "label": "Lilly Wachowski",
         "parentId": "GroupNodepeople",
         "position": [
          0,
          0
         ],
         "properties": {
          "born": 1967,
          "label": "Person",
          "name": "Lilly Wachowski"
         },
         "scale_factor": 1,
         "size": [
          100,
          100
         ],
         "styles": {
          "shape": "rectangle"
         },
         "type": "#2196F3"
        },
        {
         "color": "#2196F3",
         "id": 6,
         "label": "Lana Wachowski",
         "parentId": "GroupNodepeople",
         "position": [
          0,
          0
         ],
         "properties": {
          "born": 1965,
          "label": "Person",
          "name": "Lana Wachowski"
         },
         "scale_factor": 1,
         "size": [
          100,
          100
         ],
         "styles": {
          "shape": "rectangle"
         },
         "type": "#2196F3"
        },
        {
         "color": "#2196F3",
         "id": 7,
         "label": "Joel Silver",
         "parentId": "GroupNodepeople",
         "position": [
          0,
          0
         ],
         "properties": {
          "born": 1952,
          "label": "Person",
          "name": "Joel Silver"
         },
         "scale_factor": 1,
         "size": [
          100,
          100
         ],
         "styles": {
          "shape": "rectangle"
         },
         "type": "#2196F3"
        },
        {
         "color": "#2196F3",
         "id": 8,
         "label": "Emil Eifrem",
         "parentId": "GroupNodepeople",
         "position": [
          0,
          0
         ],
         "properties": {
          "born": 1978,
          "label": "Person",
          "name": "Emil Eifrem"
         },
         "scale_factor": 1,
         "size": [
          100,
          100
         ],
         "styles": {
          "shape": "rectangle"
         },
         "type": "#2196F3"
        },
        {
         "color": "#4CAF50",
         "id": 9,
         "label": "Title:\nThe Matrix Reloaded",
         "parentId": "GroupNodemovies",
         "position": [
          0,
          0
         ],
         "properties": {
          "label": "Movie",
          "released": 2003,
          "tagline": "Free your mind",
          "title": "The Matrix Reloaded",
          "votes": 1841
         },
         "scale_factor": 1,
         "size": [
          55,
          55
         ],
         "styles": {
          "label_styles": {
           "backgroundColor": "rgba(0,0,0,0.7)",
           "color": "#FFFFFF",
           "fontSize": 20,
           "fontWeight": "lighter",
           "maximumWidth": 130,
           "position": "north",
           "textAlignment": "center",
           "wrapping": "word"
          }
         },
         "type": "#4CAF50"
        },
        {
         "color": "#4CAF50",
         "id": 10,
         "label": "Title:\nThe Matrix Revolutions",
         "parentId": "GroupNodemovies",
         "position": [
          0,
          0
         ],
         "properties": {
          "label": "Movie",
          "released": 2003,
          "tagline": "Everything that has a beginning has an end",
          "title": "The Matrix Revolutions",
          "votes": 1534
         },
         "scale_factor": 1,
         "size": [
          55,
          55
         ],
         "styles": {
          "label_styles": {
           "backgroundColor": "rgba(0,0,0,0.7)",
           "color": "#FFFFFF",
           "fontSize": 20,
           "fontWeight": "lighter",
           "maximumWidth": 130,
           "position": "north",
           "textAlignment": "center",
           "wrapping": "word"
          }
         },
         "type": "#4CAF50"
        },
        {
         "color": "#cca9ff",
         "id": "GroupNodepeople",
         "label": "people",
         "position": [
          0,
          0
         ],
         "properties": {
          "label": "people"
         },
         "scale_factor": 1,
         "size": [
          55,
          55
         ],
         "styles": {
          "color": "#cca9ff"
         },
         "type": "#cca9ff"
        },
        {
         "color": "#F44336",
         "id": "GroupNodemovies",
         "label": "movies",
         "position": [
          0,
          0
         ],
         "properties": {
          "label": "movies"
         },
         "scale_factor": 1,
         "size": [
          55,
          55
         ],
         "styles": {},
         "type": "#F44336"
        }
       ],
       "_overview": {
        "enabled": null,
        "overview_set": false
       },
       "_selected_graph": [
        [
         {
          "id": "GroupNodepeople",
          "properties": {
           "label": "people"
          }
         }
        ],
        []
       ],
       "_sidebar": {
        "enabled": false,
        "start_with": "About"
       },
       "_view_module_version": "^1.10.2",
       "layout": "IPY_MODEL_7e45a2312586497fbc5d6ed31e553dc3"
      }
     },
     "9f6b785b62394938ae19744a4479b796": {
      "model_module": "yfiles-jupyter-graphs",
      "model_module_version": "^1.10.2",
      "model_name": "GraphModel",
      "state": {
       "_context_pane_mapping": [
        {
         "id": "Neighborhood",
         "title": "Neighborhood"
        },
        {
         "id": "Data",
         "title": "Data"
        },
        {
         "id": "Search",
         "title": "Search"
        },
        {
         "id": "About",
         "title": "About"
        }
       ],
       "_data_importer": "neo4j",
       "_directed": true,
       "_edges": [
        {
         "color": "blue",
         "directed": true,
         "end": 0,
         "id": 4,
         "label": "DIRECTED",
         "properties": {
          "label": "DIRECTED"
         },
         "start": 5,
         "styles": {
          "dashStyle": "dot"
         },
         "thickness_factor": 1
        },
        {
         "color": "blue",
         "directed": true,
         "end": 0,
         "id": 5,
         "label": "DIRECTED",
         "properties": {
          "label": "DIRECTED"
         },
         "start": 6,
         "styles": {
          "dashStyle": "dot"
         },
         "thickness_factor": 1
        },
        {
         "color": "#AC94F4",
         "directed": true,
         "end": 0,
         "id": 6,
         "label": "produced",
         "properties": {
          "label": "PRODUCED"
         },
         "start": 7,
         "styles": {
          "label_styles": {
           "fontWeight": "bolder"
          }
         },
         "thickness_factor": 1
        },
        {
         "color": "blue",
         "directed": true,
         "end": 9,
         "id": 12,
         "label": "DIRECTED",
         "properties": {
          "label": "DIRECTED"
         },
         "start": 5,
         "styles": {
          "dashStyle": "dot"
         },
         "thickness_factor": 1
        },
        {
         "color": "blue",
         "directed": true,
         "end": 9,
         "id": 13,
         "label": "DIRECTED",
         "properties": {
          "label": "DIRECTED"
         },
         "start": 6,
         "styles": {
          "dashStyle": "dot"
         },
         "thickness_factor": 1
        },
        {
         "color": "#AC94F4",
         "directed": true,
         "end": 9,
         "id": 14,
         "label": "produced",
         "properties": {
          "label": "PRODUCED"
         },
         "start": 7,
         "styles": {
          "label_styles": {
           "fontWeight": "bolder"
          }
         },
         "thickness_factor": 1
        },
        {
         "color": "blue",
         "directed": true,
         "end": 10,
         "id": 19,
         "label": "DIRECTED",
         "properties": {
          "label": "DIRECTED"
         },
         "start": 5,
         "styles": {
          "dashStyle": "dot"
         },
         "thickness_factor": 1
        }
       ],
       "_graph_layout": {
        "algorithm": "organic",
        "options": {}
       },
       "_model_module_version": "^1.10.2",
       "_nodes": [
        {
         "color": "#2196F3",
         "id": 1,
         "label": "Keanu Reeves",
         "parentId": 10,
         "position": [
          0,
          0
         ],
         "properties": {
          "born": 1964,
          "label": "Person",
          "name": "Keanu Reeves"
         },
         "scale_factor": 1,
         "size": [
          100,
          100
         ],
         "styles": {
          "shape": "rectangle"
         },
         "type": "#2196F3"
        },
        {
         "color": "#4CAF50",
         "id": 0,
         "label": "Title:\nThe Matrix",
         "parentId": "GroupNodemovies",
         "position": [
          0,
          0
         ],
         "properties": {
          "label": "Movie",
          "released": 1999,
          "tagline": "Welcome to the Real World",
          "title": "The Matrix",
          "votes": 6345
         },
         "scale_factor": 1,
         "size": [
          55,
          55
         ],
         "styles": {
          "label_styles": {
           "backgroundColor": "rgba(0,0,0,0.7)",
           "color": "#FFFFFF",
           "fontSize": 20,
           "fontWeight": "lighter",
           "maximumWidth": 130,
           "position": "north",
           "textAlignment": "center",
           "wrapping": "word"
          }
         },
         "type": "#4CAF50"
        },
        {
         "color": "#2196F3",
         "id": 2,
         "label": "Carrie-Anne Moss",
         "parentId": 10,
         "position": [
          0,
          0
         ],
         "properties": {
          "born": 1967,
          "label": "Person",
          "name": "Carrie-Anne Moss"
         },
         "scale_factor": 1,
         "size": [
          100,
          100
         ],
         "styles": {
          "shape": "rectangle"
         },
         "type": "#2196F3"
        },
        {
         "color": "#2196F3",
         "id": 3,
         "label": "Laurence Fishburne",
         "parentId": 10,
         "position": [
          0,
          0
         ],
         "properties": {
          "born": 1961,
          "label": "Person",
          "name": "Laurence Fishburne"
         },
         "scale_factor": 1,
         "size": [
          100,
          100
         ],
         "styles": {
          "shape": "rectangle"
         },
         "type": "#2196F3"
        },
        {
         "color": "#2196F3",
         "id": 4,
         "label": "Hugo Weaving",
         "parentId": 10,
         "position": [
          0,
          0
         ],
         "properties": {
          "born": 1960,
          "label": "Person",
          "name": "Hugo Weaving"
         },
         "scale_factor": 1,
         "size": [
          100,
          100
         ],
         "styles": {
          "shape": "rectangle"
         },
         "type": "#2196F3"
        },
        {
         "color": "#2196F3",
         "id": 5,
         "label": "Lilly Wachowski",
         "parentId": "GroupNodepeople",
         "position": [
          0,
          0
         ],
         "properties": {
          "born": 1967,
          "label": "Person",
          "name": "Lilly Wachowski"
         },
         "scale_factor": 1,
         "size": [
          100,
          100
         ],
         "styles": {
          "shape": "rectangle"
         },
         "type": "#2196F3"
        },
        {
         "color": "#2196F3",
         "id": 6,
         "label": "Lana Wachowski",
         "parentId": "GroupNodepeople",
         "position": [
          0,
          0
         ],
         "properties": {
          "born": 1965,
          "label": "Person",
          "name": "Lana Wachowski"
         },
         "scale_factor": 1,
         "size": [
          100,
          100
         ],
         "styles": {
          "shape": "rectangle"
         },
         "type": "#2196F3"
        },
        {
         "color": "#2196F3",
         "id": 7,
         "label": "Joel Silver",
         "parentId": "GroupNodepeople",
         "position": [
          0,
          0
         ],
         "properties": {
          "born": 1952,
          "label": "Person",
          "name": "Joel Silver"
         },
         "scale_factor": 1,
         "size": [
          100,
          100
         ],
         "styles": {
          "shape": "rectangle"
         },
         "type": "#2196F3"
        },
        {
         "color": "#2196F3",
         "id": 8,
         "label": "Emil Eifrem",
         "parentId": 0,
         "position": [
          0,
          0
         ],
         "properties": {
          "born": 1978,
          "label": "Person",
          "name": "Emil Eifrem"
         },
         "scale_factor": 1,
         "size": [
          100,
          100
         ],
         "styles": {
          "shape": "rectangle"
         },
         "type": "#2196F3"
        },
        {
         "color": "#4CAF50",
         "id": 9,
         "label": "Title:\nThe Matrix Reloaded",
         "parentId": "GroupNodemovies",
         "position": [
          0,
          0
         ],
         "properties": {
          "label": "Movie",
          "released": 2003,
          "tagline": "Free your mind",
          "title": "The Matrix Reloaded",
          "votes": 1841
         },
         "scale_factor": 1,
         "size": [
          55,
          55
         ],
         "styles": {
          "label_styles": {
           "backgroundColor": "rgba(0,0,0,0.7)",
           "color": "#FFFFFF",
           "fontSize": 20,
           "fontWeight": "lighter",
           "maximumWidth": 130,
           "position": "north",
           "textAlignment": "center",
           "wrapping": "word"
          }
         },
         "type": "#4CAF50"
        },
        {
         "color": "#4CAF50",
         "id": 10,
         "label": "Title:\nThe Matrix Revolutions",
         "parentId": "GroupNodemovies",
         "position": [
          0,
          0
         ],
         "properties": {
          "label": "Movie",
          "released": 2003,
          "tagline": "Everything that has a beginning has an end",
          "title": "The Matrix Revolutions",
          "votes": 1534
         },
         "scale_factor": 1,
         "size": [
          55,
          55
         ],
         "styles": {
          "label_styles": {
           "backgroundColor": "rgba(0,0,0,0.7)",
           "color": "#FFFFFF",
           "fontSize": 20,
           "fontWeight": "lighter",
           "maximumWidth": 130,
           "position": "north",
           "textAlignment": "center",
           "wrapping": "word"
          }
         },
         "type": "#4CAF50"
        },
        {
         "color": "#cca9ff",
         "id": "GroupNodepeople",
         "label": "people",
         "position": [
          0,
          0
         ],
         "properties": {
          "label": "people"
         },
         "scale_factor": 1,
         "size": [
          55,
          55
         ],
         "styles": {},
         "type": "#cca9ff"
        },
        {
         "color": "#F44336",
         "id": "GroupNodemovies",
         "label": "movies",
         "position": [
          0,
          0
         ],
         "properties": {
          "label": "movies"
         },
         "scale_factor": 1,
         "size": [
          55,
          55
         ],
         "styles": {},
         "type": "#F44336"
        }
       ],
       "_overview": {
        "enabled": null,
        "overview_set": false
       },
       "_selected_graph": [
        [],
        []
       ],
       "_sidebar": {
        "enabled": false,
        "start_with": "About"
       },
       "_view_module_version": "^1.10.2",
       "layout": "IPY_MODEL_dbc205b3693047f4832f11957c0ede1e"
      }
     },
     "a4c9e65aa82e4824a015a17bf52ba2a5": {
      "model_module": "@jupyter-widgets/base",
      "model_module_version": "2.0.0",
      "model_name": "LayoutModel",
      "state": {
       "height": "500px",
       "width": "100%"
      }
     },
     "b75d05a06bf5430eb7bcd20497262a02": {
      "model_module": "@jupyter-widgets/base",
      "model_module_version": "2.0.0",
      "model_name": "LayoutModel",
      "state": {
       "height": "630px",
       "width": "100%"
      }
     },
     "c83fe4af42f84c83b12f829ff46ac16e": {
      "model_module": "yfiles-jupyter-graphs",
      "model_module_version": "^1.10.2",
      "model_name": "GraphModel",
      "state": {
       "_context_pane_mapping": [
        {
         "id": "Neighborhood",
         "title": "Neighborhood"
        },
        {
         "id": "Data",
         "title": "Data"
        },
        {
         "id": "Search",
         "title": "Search"
        },
        {
         "id": "About",
         "title": "About"
        }
       ],
       "_data_importer": "neo4j",
       "_directed": true,
       "_edges": [
        {
         "color": "blue",
         "directed": true,
         "end": 0,
         "id": 4,
         "label": "DIRECTED",
         "properties": {
          "label": "DIRECTED"
         },
         "start": 5,
         "styles": {
          "dashStyle": "dot"
         },
         "thickness_factor": 1
        },
        {
         "color": "blue",
         "directed": true,
         "end": 0,
         "id": 5,
         "label": "DIRECTED",
         "properties": {
          "label": "DIRECTED"
         },
         "start": 6,
         "styles": {
          "dashStyle": "dot"
         },
         "thickness_factor": 1
        },
        {
         "color": "#AC94F4",
         "directed": true,
         "end": 0,
         "id": 6,
         "label": "produced",
         "properties": {
          "label": "PRODUCED"
         },
         "start": 7,
         "styles": {
          "label_styles": {
           "fontSize": 16,
           "fontWeight": "bolder"
          }
         },
         "thickness_factor": 1
        },
        {
         "color": "blue",
         "directed": true,
         "end": 9,
         "id": 12,
         "label": "DIRECTED",
         "properties": {
          "label": "DIRECTED"
         },
         "start": 5,
         "styles": {
          "dashStyle": "dot"
         },
         "thickness_factor": 1
        },
        {
         "color": "blue",
         "directed": true,
         "end": 9,
         "id": 13,
         "label": "DIRECTED",
         "properties": {
          "label": "DIRECTED"
         },
         "start": 6,
         "styles": {
          "dashStyle": "dot"
         },
         "thickness_factor": 1
        },
        {
         "color": "#AC94F4",
         "directed": true,
         "end": 9,
         "id": 14,
         "label": "produced",
         "properties": {
          "label": "PRODUCED"
         },
         "start": 7,
         "styles": {
          "label_styles": {
           "fontSize": 16,
           "fontWeight": "bolder"
          }
         },
         "thickness_factor": 1
        },
        {
         "color": "blue",
         "directed": true,
         "end": 10,
         "id": 19,
         "label": "DIRECTED",
         "properties": {
          "label": "DIRECTED"
         },
         "start": 5,
         "styles": {
          "dashStyle": "dot"
         },
         "thickness_factor": 1
        }
       ],
       "_graph_layout": {
        "algorithm": "organic",
        "options": {}
       },
       "_model_module_version": "^1.10.2",
       "_nodes": [
        {
         "color": "#2196F3",
         "id": 1,
         "label": "Keanu Reeves",
         "parentId": 10,
         "position": [
          0,
          0
         ],
         "properties": {
          "born": 1964,
          "label": "Person",
          "name": "Keanu Reeves"
         },
         "scale_factor": 1,
         "size": [
          100,
          100
         ],
         "styles": {
          "shape": "rectangle"
         },
         "type": "#2196F3"
        },
        {
         "color": "#4CAF50",
         "id": 0,
         "label": "Title:\nThe Matrix",
         "parentId": "GroupNodemovies",
         "position": [
          0,
          0
         ],
         "properties": {
          "label": "Movie",
          "released": 1999,
          "tagline": "Welcome to the Real World",
          "title": "The Matrix",
          "votes": 6345
         },
         "scale_factor": 1,
         "size": [
          55,
          55
         ],
         "styles": {
          "label_styles": {
           "backgroundColor": "rgba(0,0,0,0.7)",
           "color": "#FFFFFF",
           "fontSize": 20,
           "fontWeight": "lighter",
           "maximumWidth": 130,
           "position": "north",
           "textAlignment": "center",
           "wrapping": "word"
          }
         },
         "type": "#4CAF50"
        },
        {
         "color": "#2196F3",
         "id": 2,
         "label": "Carrie-Anne Moss",
         "parentId": 10,
         "position": [
          0,
          0
         ],
         "properties": {
          "born": 1967,
          "label": "Person",
          "name": "Carrie-Anne Moss"
         },
         "scale_factor": 1,
         "size": [
          100,
          100
         ],
         "styles": {
          "shape": "rectangle"
         },
         "type": "#2196F3"
        },
        {
         "color": "#2196F3",
         "id": 3,
         "label": "Laurence Fishburne",
         "parentId": 10,
         "position": [
          0,
          0
         ],
         "properties": {
          "born": 1961,
          "label": "Person",
          "name": "Laurence Fishburne"
         },
         "scale_factor": 1,
         "size": [
          100,
          100
         ],
         "styles": {
          "shape": "rectangle"
         },
         "type": "#2196F3"
        },
        {
         "color": "#2196F3",
         "id": 4,
         "label": "Hugo Weaving",
         "parentId": 10,
         "position": [
          0,
          0
         ],
         "properties": {
          "born": 1960,
          "label": "Person",
          "name": "Hugo Weaving"
         },
         "scale_factor": 1,
         "size": [
          100,
          100
         ],
         "styles": {
          "shape": "rectangle"
         },
         "type": "#2196F3"
        },
        {
         "color": "#2196F3",
         "id": 5,
         "label": "Lilly Wachowski",
         "parentId": "GroupNodepeople",
         "position": [
          0,
          0
         ],
         "properties": {
          "born": 1967,
          "label": "Person",
          "name": "Lilly Wachowski"
         },
         "scale_factor": 1,
         "size": [
          100,
          100
         ],
         "styles": {
          "shape": "rectangle"
         },
         "type": "#2196F3"
        },
        {
         "color": "#2196F3",
         "id": 6,
         "label": "Lana Wachowski",
         "parentId": "GroupNodepeople",
         "position": [
          0,
          0
         ],
         "properties": {
          "born": 1965,
          "label": "Person",
          "name": "Lana Wachowski"
         },
         "scale_factor": 1,
         "size": [
          100,
          100
         ],
         "styles": {
          "shape": "rectangle"
         },
         "type": "#2196F3"
        },
        {
         "color": "#2196F3",
         "id": 7,
         "label": "Joel Silver",
         "parentId": "GroupNodepeople",
         "position": [
          0,
          0
         ],
         "properties": {
          "born": 1952,
          "label": "Person",
          "name": "Joel Silver"
         },
         "scale_factor": 1,
         "size": [
          100,
          100
         ],
         "styles": {
          "shape": "rectangle"
         },
         "type": "#2196F3"
        },
        {
         "color": "#2196F3",
         "id": 8,
         "label": "Emil Eifrem",
         "parentId": 0,
         "position": [
          0,
          0
         ],
         "properties": {
          "born": 1978,
          "label": "Person",
          "name": "Emil Eifrem"
         },
         "scale_factor": 1,
         "size": [
          100,
          100
         ],
         "styles": {
          "shape": "rectangle"
         },
         "type": "#2196F3"
        },
        {
         "color": "#4CAF50",
         "id": 9,
         "label": "Title:\nThe Matrix Reloaded",
         "parentId": "GroupNodemovies",
         "position": [
          0,
          0
         ],
         "properties": {
          "label": "Movie",
          "released": 2003,
          "tagline": "Free your mind",
          "title": "The Matrix Reloaded",
          "votes": 1841
         },
         "scale_factor": 1,
         "size": [
          55,
          55
         ],
         "styles": {
          "label_styles": {
           "backgroundColor": "rgba(0,0,0,0.7)",
           "color": "#FFFFFF",
           "fontSize": 20,
           "fontWeight": "lighter",
           "maximumWidth": 130,
           "position": "north",
           "textAlignment": "center",
           "wrapping": "word"
          }
         },
         "type": "#4CAF50"
        },
        {
         "color": "#4CAF50",
         "id": 10,
         "label": "Title:\nThe Matrix Revolutions",
         "parentId": "GroupNodemovies",
         "position": [
          0,
          0
         ],
         "properties": {
          "label": "Movie",
          "released": 2003,
          "tagline": "Everything that has a beginning has an end",
          "title": "The Matrix Revolutions",
          "votes": 1534
         },
         "scale_factor": 1,
         "size": [
          55,
          55
         ],
         "styles": {
          "label_styles": {
           "backgroundColor": "rgba(0,0,0,0.7)",
           "color": "#FFFFFF",
           "fontSize": 20,
           "fontWeight": "lighter",
           "maximumWidth": 130,
           "position": "north",
           "textAlignment": "center",
           "wrapping": "word"
          }
         },
         "type": "#4CAF50"
        },
        {
         "color": "#cca9ff",
         "id": "GroupNodepeople",
         "label": "people",
         "position": [
          0,
          0
         ],
         "properties": {
          "label": "people"
         },
         "scale_factor": 1,
         "size": [
          55,
          55
         ],
         "styles": {},
         "type": "#cca9ff"
        },
        {
         "color": "#F44336",
         "id": "GroupNodemovies",
         "label": "movies",
         "position": [
          0,
          0
         ],
         "properties": {
          "label": "movies"
         },
         "scale_factor": 1,
         "size": [
          55,
          55
         ],
         "styles": {},
         "type": "#F44336"
        }
       ],
       "_overview": {
        "enabled": null,
        "overview_set": false
       },
       "_selected_graph": [
        [],
        []
       ],
       "_sidebar": {
        "enabled": false,
        "start_with": "About"
       },
       "_view_module_version": "^1.10.2",
       "layout": "IPY_MODEL_5fd3993005a24254b3a3d6b0ee922944"
      }
     },
     "d5976e6a66da45828c79552aad4df578": {
      "model_module": "@jupyter-widgets/base",
      "model_module_version": "2.0.0",
      "model_name": "LayoutModel",
      "state": {
       "height": "630px",
       "width": "100%"
      }
     },
     "d59c8897feff427aaf6f106244f5258c": {
      "model_module": "@jupyter-widgets/base",
      "model_module_version": "2.0.0",
      "model_name": "LayoutModel",
      "state": {
       "height": "500px",
       "width": "100%"
      }
     },
     "dbc205b3693047f4832f11957c0ede1e": {
      "model_module": "@jupyter-widgets/base",
      "model_module_version": "2.0.0",
      "model_name": "LayoutModel",
      "state": {
       "height": "630px",
       "width": "100%"
      }
     },
     "df8c3d8d361541ab919ea476b8e66e3d": {
      "model_module": "yfiles-jupyter-graphs",
      "model_module_version": "^1.10.2",
      "model_name": "GraphModel",
      "state": {
       "_context_pane_mapping": [
        {
         "id": "Neighborhood",
         "title": "Neighborhood"
        },
        {
         "id": "Data",
         "title": "Data"
        },
        {
         "id": "Search",
         "title": "Search"
        },
        {
         "id": "About",
         "title": "About"
        }
       ],
       "_data_importer": "neo4j",
       "_directed": true,
       "_edges": [
        {
         "color": "#AC94F4",
         "directed": true,
         "end": 0,
         "id": 6,
         "label": "produced",
         "properties": {
          "label": "PRODUCED"
         },
         "start": 7,
         "styles": {
          "label_styles": {
           "fontWeight": "bolder"
          }
         },
         "thickness_factor": 1
        },
        {
         "color": "blue",
         "directed": true,
         "end": 0,
         "id": 5,
         "label": "DIRECTED",
         "properties": {
          "label": "DIRECTED"
         },
         "start": 6,
         "styles": {
          "dashStyle": "dot"
         },
         "thickness_factor": 1
        },
        {
         "color": "blue",
         "directed": true,
         "end": 0,
         "id": 4,
         "label": "DIRECTED",
         "properties": {
          "label": "DIRECTED"
         },
         "start": 5,
         "styles": {
          "dashStyle": "dot"
         },
         "thickness_factor": 1
        }
       ],
       "_graph_layout": {
        "algorithm": "organic",
        "options": {}
       },
       "_model_module_version": "^1.10.2",
       "_nodes": [
        {
         "color": "#2196F3",
         "id": 8,
         "label": "Emil Eifrem",
         "parentId": 0,
         "position": [
          0,
          0
         ],
         "properties": {
          "born": 1978,
          "label": "Person",
          "name": "Emil Eifrem"
         },
         "scale_factor": 1,
         "size": [
          100,
          100
         ],
         "styles": {
          "shape": "rectangle"
         },
         "type": "#2196F3"
        },
        {
         "color": "#4CAF50",
         "id": 0,
         "label": "Title:\nThe Matrix",
         "parentId": "GroupNodemovies",
         "position": [
          0,
          0
         ],
         "properties": {
          "label": "Movie",
          "released": 1999,
          "tagline": "Welcome to the Real World",
          "title": "The Matrix",
          "votes": 6345
         },
         "scale_factor": 1,
         "size": [
          55,
          55
         ],
         "styles": {
          "label_styles": {
           "backgroundColor": "rgba(0,0,0,0.7)",
           "color": "#FFFFFF",
           "fontSize": 20,
           "fontWeight": "lighter",
           "maximumWidth": 130,
           "position": "north",
           "textAlignment": "center",
           "wrapping": "word"
          }
         },
         "type": "#4CAF50"
        },
        {
         "color": "#2196F3",
         "id": 7,
         "label": "Joel Silver",
         "parentId": "GroupNodepeople",
         "position": [
          0,
          0
         ],
         "properties": {
          "born": 1952,
          "label": "Person",
          "name": "Joel Silver"
         },
         "scale_factor": 1,
         "size": [
          100,
          100
         ],
         "styles": {
          "shape": "rectangle"
         },
         "type": "#2196F3"
        },
        {
         "color": "#2196F3",
         "id": 6,
         "label": "Lana Wachowski",
         "parentId": "GroupNodepeople",
         "position": [
          0,
          0
         ],
         "properties": {
          "born": 1965,
          "label": "Person",
          "name": "Lana Wachowski"
         },
         "scale_factor": 1,
         "size": [
          100,
          100
         ],
         "styles": {
          "shape": "rectangle"
         },
         "type": "#2196F3"
        },
        {
         "color": "#2196F3",
         "id": 5,
         "label": "Lilly Wachowski",
         "parentId": "GroupNodepeople",
         "position": [
          0,
          0
         ],
         "properties": {
          "born": 1967,
          "label": "Person",
          "name": "Lilly Wachowski"
         },
         "scale_factor": 1,
         "size": [
          100,
          100
         ],
         "styles": {
          "shape": "rectangle"
         },
         "type": "#2196F3"
        },
        {
         "color": "#2196F3",
         "id": 4,
         "label": "Hugo Weaving",
         "parentId": 0,
         "position": [
          0,
          0
         ],
         "properties": {
          "born": 1960,
          "label": "Person",
          "name": "Hugo Weaving"
         },
         "scale_factor": 1,
         "size": [
          100,
          100
         ],
         "styles": {
          "shape": "rectangle"
         },
         "type": "#2196F3"
        },
        {
         "color": "#2196F3",
         "id": 3,
         "label": "Laurence Fishburne",
         "parentId": 0,
         "position": [
          0,
          0
         ],
         "properties": {
          "born": 1961,
          "label": "Person",
          "name": "Laurence Fishburne"
         },
         "scale_factor": 1,
         "size": [
          100,
          100
         ],
         "styles": {
          "shape": "rectangle"
         },
         "type": "#2196F3"
        },
        {
         "color": "#2196F3",
         "id": 2,
         "label": "Carrie-Anne Moss",
         "parentId": 0,
         "position": [
          0,
          0
         ],
         "properties": {
          "born": 1967,
          "label": "Person",
          "name": "Carrie-Anne Moss"
         },
         "scale_factor": 1,
         "size": [
          100,
          100
         ],
         "styles": {
          "shape": "rectangle"
         },
         "type": "#2196F3"
        },
        {
         "color": "#2196F3",
         "id": 1,
         "label": "Keanu Reeves",
         "parentId": 0,
         "position": [
          0,
          0
         ],
         "properties": {
          "born": 1964,
          "label": "Person",
          "name": "Keanu Reeves"
         },
         "scale_factor": 1,
         "size": [
          100,
          100
         ],
         "styles": {
          "shape": "rectangle"
         },
         "type": "#2196F3"
        },
        {
         "color": "#cca9ff",
         "id": "GroupNodepeople",
         "label": "people",
         "position": [
          0,
          0
         ],
         "properties": {
          "label": "people"
         },
         "scale_factor": 1,
         "size": [
          55,
          55
         ],
         "styles": {},
         "type": "#cca9ff"
        },
        {
         "color": "#F44336",
         "id": "GroupNodemovies",
         "label": "movies",
         "position": [
          0,
          0
         ],
         "properties": {
          "label": "movies"
         },
         "scale_factor": 1,
         "size": [
          55,
          55
         ],
         "styles": {},
         "type": "#F44336"
        }
       ],
       "_overview": {
        "enabled": null,
        "overview_set": false
       },
       "_selected_graph": [
        [],
        []
       ],
       "_sidebar": {
        "enabled": false,
        "start_with": "About"
       },
       "_view_module_version": "^1.10.2",
       "layout": "IPY_MODEL_77f79c1038da486ebdf3db3693fa1df7"
      }
     },
     "e6099874e34449e1b898bc4e878bee7c": {
      "model_module": "yfiles-jupyter-graphs",
      "model_module_version": "^1.10.2",
      "model_name": "GraphModel",
      "state": {
       "_context_pane_mapping": [
        {
         "id": "Neighborhood",
         "title": "Neighborhood"
        },
        {
         "id": "Data",
         "title": "Data"
        },
        {
         "id": "Search",
         "title": "Search"
        },
        {
         "id": "About",
         "title": "About"
        }
       ],
       "_data_importer": "neo4j",
       "_directed": true,
       "_edges": [
        {
         "color": "blue",
         "directed": true,
         "end": 0,
         "id": 4,
         "label": "DIRECTED",
         "properties": {
          "label": "DIRECTED"
         },
         "start": 5,
         "styles": {
          "dashStyle": "dot"
         },
         "thickness_factor": 1
        },
        {
         "color": "blue",
         "directed": true,
         "end": 0,
         "id": 5,
         "label": "DIRECTED",
         "properties": {
          "label": "DIRECTED"
         },
         "start": 6,
         "styles": {
          "dashStyle": "dot"
         },
         "thickness_factor": 1
        },
        {
         "color": "#AC94F4",
         "directed": true,
         "end": 0,
         "id": 6,
         "label": "produced",
         "properties": {
          "label": "PRODUCED"
         },
         "start": 7,
         "styles": {
          "label_styles": {
           "fontSize": 16,
           "fontWeight": "bolder"
          }
         },
         "thickness_factor": 1
        },
        {
         "color": "blue",
         "directed": true,
         "end": 9,
         "id": 12,
         "label": "DIRECTED",
         "properties": {
          "label": "DIRECTED"
         },
         "start": 5,
         "styles": {
          "dashStyle": "dot"
         },
         "thickness_factor": 1
        },
        {
         "color": "blue",
         "directed": true,
         "end": 9,
         "id": 13,
         "label": "DIRECTED",
         "properties": {
          "label": "DIRECTED"
         },
         "start": 6,
         "styles": {
          "dashStyle": "dot"
         },
         "thickness_factor": 1
        },
        {
         "color": "#AC94F4",
         "directed": true,
         "end": 9,
         "id": 14,
         "label": "produced",
         "properties": {
          "label": "PRODUCED"
         },
         "start": 7,
         "styles": {
          "label_styles": {
           "fontSize": 16,
           "fontWeight": "bolder"
          }
         },
         "thickness_factor": 1
        },
        {
         "color": "blue",
         "directed": true,
         "end": 10,
         "id": 19,
         "label": "DIRECTED",
         "properties": {
          "label": "DIRECTED"
         },
         "start": 5,
         "styles": {
          "dashStyle": "dot"
         },
         "thickness_factor": 1
        }
       ],
       "_graph_layout": {
        "algorithm": "organic",
        "options": {}
       },
       "_model_module_version": "^1.10.2",
       "_nodes": [
        {
         "color": "#2196F3",
         "id": 1,
         "label": "Keanu Reeves",
         "parentId": 10,
         "position": [
          0,
          0
         ],
         "properties": {
          "born": 1964,
          "label": "Person",
          "name": "Keanu Reeves"
         },
         "scale_factor": 1,
         "size": [
          100,
          100
         ],
         "styles": {
          "shape": "rectangle"
         },
         "type": "#2196F3"
        },
        {
         "color": "#4CAF50",
         "id": 0,
         "label": "Title:\nThe Matrix",
         "parentId": "GroupNodemovies",
         "position": [
          0,
          0
         ],
         "properties": {
          "label": "Movie",
          "released": 1999,
          "tagline": "Welcome to the Real World",
          "title": "The Matrix",
          "votes": 6345
         },
         "scale_factor": 1,
         "size": [
          55,
          55
         ],
         "styles": {
          "label_styles": {
           "backgroundColor": "rgba(0,0,0,0.7)",
           "color": "#FFFFFF",
           "fontSize": 20,
           "fontWeight": "lighter",
           "maximumWidth": 130,
           "position": "north",
           "textAlignment": "center",
           "wrapping": "word"
          }
         },
         "type": "#4CAF50"
        },
        {
         "color": "#2196F3",
         "id": 2,
         "label": "Carrie-Anne Moss",
         "parentId": 10,
         "position": [
          0,
          0
         ],
         "properties": {
          "born": 1967,
          "label": "Person",
          "name": "Carrie-Anne Moss"
         },
         "scale_factor": 1,
         "size": [
          100,
          100
         ],
         "styles": {
          "shape": "rectangle"
         },
         "type": "#2196F3"
        },
        {
         "color": "#2196F3",
         "id": 3,
         "label": "Laurence Fishburne",
         "parentId": 10,
         "position": [
          0,
          0
         ],
         "properties": {
          "born": 1961,
          "label": "Person",
          "name": "Laurence Fishburne"
         },
         "scale_factor": 1,
         "size": [
          100,
          100
         ],
         "styles": {
          "shape": "rectangle"
         },
         "type": "#2196F3"
        },
        {
         "color": "#2196F3",
         "id": 4,
         "label": "Hugo Weaving",
         "parentId": 10,
         "position": [
          0,
          0
         ],
         "properties": {
          "born": 1960,
          "label": "Person",
          "name": "Hugo Weaving"
         },
         "scale_factor": 1,
         "size": [
          100,
          100
         ],
         "styles": {
          "shape": "rectangle"
         },
         "type": "#2196F3"
        },
        {
         "color": "#2196F3",
         "id": 5,
         "label": "Lilly Wachowski",
         "parentId": "GroupNodepeople",
         "position": [
          0,
          0
         ],
         "properties": {
          "born": 1967,
          "label": "Person",
          "name": "Lilly Wachowski"
         },
         "scale_factor": 1,
         "size": [
          100,
          100
         ],
         "styles": {
          "shape": "rectangle"
         },
         "type": "#2196F3"
        },
        {
         "color": "#2196F3",
         "id": 6,
         "label": "Lana Wachowski",
         "parentId": "GroupNodepeople",
         "position": [
          0,
          0
         ],
         "properties": {
          "born": 1965,
          "label": "Person",
          "name": "Lana Wachowski"
         },
         "scale_factor": 1,
         "size": [
          100,
          100
         ],
         "styles": {
          "shape": "rectangle"
         },
         "type": "#2196F3"
        },
        {
         "color": "#2196F3",
         "id": 7,
         "label": "Joel Silver",
         "parentId": "GroupNodepeople",
         "position": [
          0,
          0
         ],
         "properties": {
          "born": 1952,
          "label": "Person",
          "name": "Joel Silver"
         },
         "scale_factor": 1,
         "size": [
          100,
          100
         ],
         "styles": {
          "shape": "rectangle"
         },
         "type": "#2196F3"
        },
        {
         "color": "#2196F3",
         "id": 8,
         "label": "Emil Eifrem",
         "parentId": 0,
         "position": [
          0,
          0
         ],
         "properties": {
          "born": 1978,
          "label": "Person",
          "name": "Emil Eifrem"
         },
         "scale_factor": 1,
         "size": [
          100,
          100
         ],
         "styles": {
          "shape": "rectangle"
         },
         "type": "#2196F3"
        },
        {
         "color": "#4CAF50",
         "id": 9,
         "label": "Title:\nThe Matrix Reloaded",
         "parentId": "GroupNodemovies",
         "position": [
          0,
          0
         ],
         "properties": {
          "label": "Movie",
          "released": 2003,
          "tagline": "Free your mind",
          "title": "The Matrix Reloaded",
          "votes": 1841
         },
         "scale_factor": 1,
         "size": [
          55,
          55
         ],
         "styles": {
          "label_styles": {
           "backgroundColor": "rgba(0,0,0,0.7)",
           "color": "#FFFFFF",
           "fontSize": 20,
           "fontWeight": "lighter",
           "maximumWidth": 130,
           "position": "north",
           "textAlignment": "center",
           "wrapping": "word"
          }
         },
         "type": "#4CAF50"
        },
        {
         "color": "#4CAF50",
         "id": 10,
         "label": "Title:\nThe Matrix Revolutions",
         "parentId": "GroupNodemovies",
         "position": [
          0,
          0
         ],
         "properties": {
          "label": "Movie",
          "released": 2003,
          "tagline": "Everything that has a beginning has an end",
          "title": "The Matrix Revolutions",
          "votes": 1534
         },
         "scale_factor": 1,
         "size": [
          55,
          55
         ],
         "styles": {
          "label_styles": {
           "backgroundColor": "rgba(0,0,0,0.7)",
           "color": "#FFFFFF",
           "fontSize": 20,
           "fontWeight": "lighter",
           "maximumWidth": 130,
           "position": "north",
           "textAlignment": "center",
           "wrapping": "word"
          }
         },
         "type": "#4CAF50"
        },
        {
         "color": "#cca9ff",
         "id": "GroupNodepeople",
         "label": "people",
         "position": [
          0,
          0
         ],
         "properties": {
          "label": "people"
         },
         "scale_factor": 1,
         "size": [
          55,
          55
         ],
         "styles": {},
         "type": "#cca9ff"
        },
        {
         "color": "#F44336",
         "id": "GroupNodemovies",
         "label": "movies",
         "position": [
          0,
          0
         ],
         "properties": {
          "label": "movies"
         },
         "scale_factor": 1,
         "size": [
          55,
          55
         ],
         "styles": {},
         "type": "#F44336"
        }
       ],
       "_overview": {
        "enabled": null,
        "overview_set": false
       },
       "_selected_graph": [
        [],
        []
       ],
       "_sidebar": {
        "enabled": false,
        "start_with": "About"
       },
       "_view_module_version": "^1.10.2",
       "layout": "IPY_MODEL_b75d05a06bf5430eb7bcd20497262a02"
      }
     },
     "ee5c26d1e68147d6a0d613aaf7c9ae0e": {
      "model_module": "@jupyter-widgets/base",
      "model_module_version": "2.0.0",
      "model_name": "LayoutModel",
      "state": {
       "height": "500px",
       "width": "100%"
      }
     },
     "f3a094e36f354e40827d35b439895f5a": {
      "model_module": "yfiles-jupyter-graphs",
      "model_module_version": "^1.10.2",
      "model_name": "GraphModel",
      "state": {
       "_context_pane_mapping": [
        {
         "id": "Neighborhood",
         "title": "Neighborhood"
        },
        {
         "id": "Data",
         "title": "Data"
        },
        {
         "id": "Search",
         "title": "Search"
        },
        {
         "id": "About",
         "title": "About"
        }
       ],
       "_directed": false,
       "_model_module_version": "^1.10.2",
       "_overview": {
        "enabled": null,
        "overview_set": false
       },
       "_sidebar": {
        "enabled": false,
        "start_with": null
       },
       "_view_module_version": "^1.10.2",
       "layout": "IPY_MODEL_ee5c26d1e68147d6a0d613aaf7c9ae0e"
      }
     },
     "fff11c7266aa4e2fa93490fad39be98a": {
      "model_module": "yfiles-jupyter-graphs",
      "model_module_version": "^1.10.2",
      "model_name": "GraphModel",
      "state": {
       "_context_pane_mapping": [
        {
         "id": "Neighborhood",
         "title": "Neighborhood"
        },
        {
         "id": "Data",
         "title": "Data"
        },
        {
         "id": "Search",
         "title": "Search"
        },
        {
         "id": "About",
         "title": "About"
        }
       ],
       "_directed": false,
       "_model_module_version": "^1.10.2",
       "_overview": {
        "enabled": null,
        "overview_set": false
       },
       "_sidebar": {
        "enabled": false,
        "start_with": null
       },
       "_view_module_version": "^1.10.2",
       "layout": "IPY_MODEL_34bbd98495ca4f32aae4dbb34758f654"
      }
     }
    },
    "version_major": 2,
    "version_minor": 0
   }
  }
 },
 "nbformat": 4,
 "nbformat_minor": 5
}
